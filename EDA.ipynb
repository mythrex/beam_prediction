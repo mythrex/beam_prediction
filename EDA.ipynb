{
 "cells": [
  {
   "cell_type": "markdown",
   "metadata": {},
   "source": [
    "Install Libs"
   ]
  },
  {
   "cell_type": "code",
   "execution_count": null,
   "metadata": {},
   "outputs": [],
   "source": [
    "!pip install wandb --upgrade\n",
    "!pip install pytorch-lightning\n",
    "!pip install segmentation-models-pytorch\n",
    "!pip install albumentations"
   ]
  },
  {
   "cell_type": "markdown",
   "metadata": {},
   "source": [
    "Download Dataset"
   ]
  },
  {
   "cell_type": "code",
   "execution_count": null,
   "metadata": {},
   "outputs": [],
   "source": [
    "# https://drive.google.com/file/d//view?usp=sharing\n",
    "!wget --load-cookies /tmp/cookies.txt \"https://docs.google.com/uc?export=download&confirm=$(wget --quiet --save-cookies /tmp/cookies.txt --keep-session-cookies --no-check-certificate 'https://docs.google.com/uc?export=download&id=1mQCNp8dq499qnJI0YCc0hTVfmm4ppxO5' -O- | sed -rn 's/.*confirm=([0-9A-Za-z_]+).*/\\1\\n/p')&id=1mQCNp8dq499qnJI0YCc0hTVfmm4ppxO5\" -O \"download.tar.gz\" && rm -rf /tmp/cookies.txt\n",
    "!tar -xvf download.tar.gz"
   ]
  },
  {
   "cell_type": "markdown",
   "metadata": {},
   "source": [
    "# EDA\n",
    "\n",
    "Here we will explore the data"
   ]
  },
  {
   "cell_type": "code",
   "execution_count": 1,
   "metadata": {},
   "outputs": [
    {
     "name": "stdout",
     "output_type": "stream",
     "text": [
      "3p5_shards\t   3p5_shards_download.sh  EDA.ipynb\t    trainer.ipynb\n",
      "3p5_shards.tar.gz  Dataset_-17.3375dB\t   download.tar.gz\n"
     ]
    }
   ],
   "source": [
    "!ls"
   ]
  },
  {
   "cell_type": "code",
   "execution_count": 2,
   "metadata": {},
   "outputs": [],
   "source": [
    "import numpy as np\n",
    "import seaborn as sns\n",
    "import os\n",
    "\n",
    "# vars\n",
    "DATA_DIR = 'Dataset_-17.3375dB'"
   ]
  },
  {
   "cell_type": "code",
   "execution_count": 3,
   "metadata": {},
   "outputs": [
    {
     "name": "stdout",
     "output_type": "stream",
     "text": [
      "-17.3375dB_highFreqChTrain.npy\t-17.3375dB_maxRateTrain.npy\n",
      "-17.3375dB_highFreqChVal.npy\t-17.3375dB_maxRateVal.npy\n",
      "-17.3375dB_inpTrain.npy\t\t-17.3375dB_trainInpLoc.npy\n",
      "-17.3375dB_inpVal.npy\t\t-17.3375dB_trainOutLoc.npy\n",
      "-17.3375dB_labelTrain.npy\t-17.3375dB_valInpLoc.npy\n",
      "-17.3375dB_labelVal.npy\t\t-17.3375dB_valOutLoc.npy\n"
     ]
    }
   ],
   "source": [
    "!ls $DATA_DIR"
   ]
  },
  {
   "cell_type": "code",
   "execution_count": 4,
   "metadata": {},
   "outputs": [
    {
     "name": "stdout",
     "output_type": "stream",
     "text": [
      "(256, 76146)\n",
      "[ 0.34402435  0.35276638  0.24912292  0.04245569 -0.07585518  0.11675079\n",
      "  0.32772158  0.41844028  0.38961957  0.34769169  0.41456424  0.21615378\n",
      " -0.10762008  0.11693366  0.26621293  0.35885817  0.20991388  0.35602942\n",
      "  0.35236283  0.32064236 -0.25278387 -0.19930945  0.09919291  0.33095766\n",
      "  0.26639666  0.40680209  0.47222736  0.29147502 -0.47701936 -0.20684795\n",
      "  0.01463959  0.19980429  0.09904804  0.27226746  0.29832213  0.35282602\n",
      " -0.2802205  -0.22275559 -0.12587274  0.1095431  -0.00487931  0.19723955\n",
      "  0.36733067  0.39577579 -0.35610948 -0.31777863 -0.28473125  0.03125232\n",
      " -0.08544636  0.11759862  0.31293973  0.33906337 -0.32830403 -0.34982521\n",
      " -0.35060942 -0.12330077 -0.22415774 -0.1148948   0.28720918  0.44913657\n",
      " -0.27646004 -0.44266145 -0.46511541 -0.12060044 -0.31348222 -0.25484867\n",
      "  0.13597803  0.31050406 -0.23749792 -0.3516434  -0.45290542 -0.43036628\n",
      " -0.43242879 -0.26851891 -0.0762867   0.14639127 -0.11255325 -0.37711983\n",
      " -0.4561838  -0.37594349 -0.35655316 -0.34239147 -0.18448287  0.08088179\n",
      " -0.07286884 -0.2878561  -0.47047651 -0.45052939 -0.41301271 -0.44620617\n",
      " -0.22021228 -0.12059339 -0.00752844 -0.19187856 -0.38300419 -0.60582458\n",
      " -0.39760471 -0.35594879 -0.37783219 -0.17869779  0.21772533  0.00082494\n",
      " -0.29269049 -0.35172052 -0.17849416 -0.46666882 -0.40129375 -0.25945711\n",
      "  0.2900324   0.14741569 -0.19433594 -0.23926708 -0.25945333 -0.38462007\n",
      " -0.44955275 -0.4249296   0.42861028  0.1717727   0.12872309 -0.16160262\n",
      " -0.17425785 -0.34521739 -0.49565463 -0.35653291  0.47275032  0.37745766\n",
      "  0.11941832  0.01104142  0.11607716 -0.23654267 -0.38859858 -0.41310996\n",
      "  0.45822866  0.30986938  0.26757909 -0.04733058  0.12225696 -0.00864615\n",
      " -0.32806215 -0.46472839  0.35528527  0.39539796  0.32433211  0.1372181\n",
      "  0.30543438  0.03223468 -0.19000797 -0.3671321   0.35625888  0.48586865\n",
      "  0.4763229   0.19445442  0.34458546  0.07898512 -0.00663035 -0.30893434\n",
      "  0.20942449  0.4066618   0.43166025  0.33533986  0.46807792  0.17457752\n",
      "  0.03532689 -0.12003952  0.17426838  0.25487332  0.51778464  0.30291946\n",
      "  0.40261395  0.37935117  0.08577622 -0.11811861 -0.03499405  0.19796698\n",
      "  0.34851969  0.32635482  0.35740182  0.42052092  0.24126002  0.07316314\n",
      " -0.06683623  0.05573204  0.43296676  0.55909832  0.3953439   0.41909952\n",
      "  0.32386104  0.09445421 -0.09754935  0.04612589  0.23965054  0.37545545\n",
      "  0.36630877  0.39923926  0.31460896  0.28399001 -0.30967073 -0.03378714\n",
      "  0.12382073  0.33135937  0.14612054  0.22006215  0.4852161   0.35977062\n",
      " -0.29215255 -0.38452802  0.06708602  0.29648596  0.05306155  0.24951605\n",
      "  0.41528784  0.25199455 -0.37829226 -0.17318942 -0.05220535 -0.00306074\n",
      " -0.08765125  0.11157085  0.23163961  0.27609436 -0.36789496 -0.06676901\n",
      " -0.13590978 -0.06850714 -0.23766201  0.17978046  0.2757366   0.36350389\n",
      " -0.41519291 -0.33360661 -0.17816344 -0.05133303 -0.20130901  0.04566574\n",
      "  0.15459892  0.43421018 -0.35977485 -0.35075844 -0.3182261  -0.13143395\n",
      " -0.1411654  -0.12767696  0.10355275  0.24604364 -0.1910008  -0.32537198\n",
      " -0.27896184 -0.26709529 -0.19037165 -0.20223572 -0.13762615  0.22004253\n",
      " -0.11560432 -0.22574793 -0.32152162 -0.2814364 ]\n"
     ]
    }
   ],
   "source": [
    "inp_train = np.load(f'{DATA_DIR}/-17.3375dB_inpTrain.npy')\n",
    "print(inp_train.shape)\n",
    "print(inp_train[:, 0])"
   ]
  },
  {
   "cell_type": "markdown",
   "metadata": {},
   "source": [
    "So 76k users, with 256. Need to reshape 2x4x32x76146. (num_atenas x channels x num_users)"
   ]
  },
  {
   "cell_type": "code",
   "execution_count": 5,
   "metadata": {},
   "outputs": [
    {
     "data": {
      "text/plain": [
       "array([[[ 0.34402435,  0.35276638,  0.24912292,  0.04245569,\n",
       "         -0.07585518,  0.11675079,  0.32772158,  0.41844028,\n",
       "          0.38961957,  0.34769169,  0.41456424,  0.21615378,\n",
       "         -0.10762008,  0.11693366,  0.26621293,  0.35885817,\n",
       "          0.20991388,  0.35602942,  0.35236283,  0.32064236,\n",
       "         -0.25278387, -0.19930945,  0.09919291,  0.33095766,\n",
       "          0.26639666,  0.40680209,  0.47222736,  0.29147502,\n",
       "         -0.47701936, -0.20684795,  0.01463959,  0.19980429],\n",
       "        [ 0.09904804,  0.27226746,  0.29832213,  0.35282602,\n",
       "         -0.2802205 , -0.22275559, -0.12587274,  0.1095431 ,\n",
       "         -0.00487931,  0.19723955,  0.36733067,  0.39577579,\n",
       "         -0.35610948, -0.31777863, -0.28473125,  0.03125232,\n",
       "         -0.08544636,  0.11759862,  0.31293973,  0.33906337,\n",
       "         -0.32830403, -0.34982521, -0.35060942, -0.12330077,\n",
       "         -0.22415774, -0.1148948 ,  0.28720918,  0.44913657,\n",
       "         -0.27646004, -0.44266145, -0.46511541, -0.12060044],\n",
       "        [-0.31348222, -0.25484867,  0.13597803,  0.31050406,\n",
       "         -0.23749792, -0.3516434 , -0.45290542, -0.43036628,\n",
       "         -0.43242879, -0.26851891, -0.0762867 ,  0.14639127,\n",
       "         -0.11255325, -0.37711983, -0.4561838 , -0.37594349,\n",
       "         -0.35655316, -0.34239147, -0.18448287,  0.08088179,\n",
       "         -0.07286884, -0.2878561 , -0.47047651, -0.45052939,\n",
       "         -0.41301271, -0.44620617, -0.22021228, -0.12059339,\n",
       "         -0.00752844, -0.19187856, -0.38300419, -0.60582458],\n",
       "        [-0.39760471, -0.35594879, -0.37783219, -0.17869779,\n",
       "          0.21772533,  0.00082494, -0.29269049, -0.35172052,\n",
       "         -0.17849416, -0.46666882, -0.40129375, -0.25945711,\n",
       "          0.2900324 ,  0.14741569, -0.19433594, -0.23926708,\n",
       "         -0.25945333, -0.38462007, -0.44955275, -0.4249296 ,\n",
       "          0.42861028,  0.1717727 ,  0.12872309, -0.16160262,\n",
       "         -0.17425785, -0.34521739, -0.49565463, -0.35653291,\n",
       "          0.47275032,  0.37745766,  0.11941832,  0.01104142]],\n",
       "\n",
       "       [[ 0.11607716, -0.23654267, -0.38859858, -0.41310996,\n",
       "          0.45822866,  0.30986938,  0.26757909, -0.04733058,\n",
       "          0.12225696, -0.00864615, -0.32806215, -0.46472839,\n",
       "          0.35528527,  0.39539796,  0.32433211,  0.1372181 ,\n",
       "          0.30543438,  0.03223468, -0.19000797, -0.3671321 ,\n",
       "          0.35625888,  0.48586865,  0.4763229 ,  0.19445442,\n",
       "          0.34458546,  0.07898512, -0.00663035, -0.30893434,\n",
       "          0.20942449,  0.4066618 ,  0.43166025,  0.33533986],\n",
       "        [ 0.46807792,  0.17457752,  0.03532689, -0.12003952,\n",
       "          0.17426838,  0.25487332,  0.51778464,  0.30291946,\n",
       "          0.40261395,  0.37935117,  0.08577622, -0.11811861,\n",
       "         -0.03499405,  0.19796698,  0.34851969,  0.32635482,\n",
       "          0.35740182,  0.42052092,  0.24126002,  0.07316314,\n",
       "         -0.06683623,  0.05573204,  0.43296676,  0.55909832,\n",
       "          0.3953439 ,  0.41909952,  0.32386104,  0.09445421,\n",
       "         -0.09754935,  0.04612589,  0.23965054,  0.37545545],\n",
       "        [ 0.36630877,  0.39923926,  0.31460896,  0.28399001,\n",
       "         -0.30967073, -0.03378714,  0.12382073,  0.33135937,\n",
       "          0.14612054,  0.22006215,  0.4852161 ,  0.35977062,\n",
       "         -0.29215255, -0.38452802,  0.06708602,  0.29648596,\n",
       "          0.05306155,  0.24951605,  0.41528784,  0.25199455,\n",
       "         -0.37829226, -0.17318942, -0.05220535, -0.00306074,\n",
       "         -0.08765125,  0.11157085,  0.23163961,  0.27609436,\n",
       "         -0.36789496, -0.06676901, -0.13590978, -0.06850714],\n",
       "        [-0.23766201,  0.17978046,  0.2757366 ,  0.36350389,\n",
       "         -0.41519291, -0.33360661, -0.17816344, -0.05133303,\n",
       "         -0.20130901,  0.04566574,  0.15459892,  0.43421018,\n",
       "         -0.35977485, -0.35075844, -0.3182261 , -0.13143395,\n",
       "         -0.1411654 , -0.12767696,  0.10355275,  0.24604364,\n",
       "         -0.1910008 , -0.32537198, -0.27896184, -0.26709529,\n",
       "         -0.19037165, -0.20223572, -0.13762615,  0.22004253,\n",
       "         -0.11560432, -0.22574793, -0.32152162, -0.2814364 ]]])"
      ]
     },
     "execution_count": 5,
     "metadata": {},
     "output_type": "execute_result"
    }
   ],
   "source": [
    "inp_train = inp_train.reshape((2, 4, 32, -1))\n",
    "inp_train[:, :, :, 0]"
   ]
  },
  {
   "cell_type": "markdown",
   "metadata": {},
   "source": [
    "Let's See Labels"
   ]
  },
  {
   "cell_type": "code",
   "execution_count": 10,
   "metadata": {},
   "outputs": [
    {
     "name": "stdout",
     "output_type": "stream",
     "text": [
      "(76146, 1)\n",
      "[[37]\n",
      " [57]\n",
      " [45]\n",
      " ...\n",
      " [45]\n",
      " [60]\n",
      " [22]]\n"
     ]
    }
   ],
   "source": [
    "label_train = np.load(f'{DATA_DIR}/-17.3375dB_labelTrain.npy')\n",
    "print(label_train.shape)\n",
    "print(label_train[:, :])"
   ]
  },
  {
   "cell_type": "markdown",
   "metadata": {},
   "source": [
    "Let's See the label distribution"
   ]
  },
  {
   "cell_type": "code",
   "execution_count": 11,
   "metadata": {},
   "outputs": [
    {
     "name": "stdout",
     "output_type": "stream",
     "text": [
      "val: count\n",
      "----------\n",
      " 3:    1\n",
      " 4:   54\n",
      " 5:  443\n",
      " 6:  710\n",
      " 7:  851\n",
      " 8: 1056\n",
      " 9: 1268\n",
      "10: 1323\n",
      "11: 1528\n",
      "12: 1638\n",
      "13: 1645\n",
      "14: 1864\n",
      "15: 2078\n",
      "16: 1861\n",
      "17: 1635\n",
      "18: 1566\n",
      "19: 1322\n",
      "20: 1256\n",
      "21: 1132\n",
      "22: 1080\n",
      "23:  988\n",
      "24:  966\n",
      "25:  945\n",
      "26:  899\n",
      "27:  880\n",
      "28:  869\n",
      "29:  811\n",
      "30:  798\n",
      "31:  788\n",
      "32:  807\n",
      "33:  797\n",
      "34:  797\n",
      "35:  821\n",
      "36:  802\n",
      "37:  806\n",
      "38:  830\n",
      "39:  850\n",
      "40:  882\n",
      "41:  930\n",
      "42:  990\n",
      "43: 1022\n",
      "44: 1076\n",
      "45: 1131\n",
      "46: 1167\n",
      "47: 1338\n",
      "48: 1437\n",
      "49: 1556\n",
      "50: 1720\n",
      "51: 1952\n",
      "52: 2223\n",
      "53: 2548\n",
      "54: 2630\n",
      "55: 2475\n",
      "56: 2316\n",
      "57: 2155\n",
      "58: 2052\n",
      "59: 1819\n",
      "60: 1707\n",
      "61: 1405\n",
      "62:  753\n",
      "63:   94\n",
      "64:    3\n"
     ]
    },
    {
     "name": "stderr",
     "output_type": "stream",
     "text": [
      "/home/ubuntu/miniconda3/envs/619/lib/python3.8/site-packages/seaborn/distributions.py:2557: FutureWarning: `distplot` is a deprecated function and will be removed in a future version. Please adapt your code to use either `displot` (a figure-level function with similar flexibility) or `histplot` (an axes-level function for histograms).\n",
      "  warnings.warn(msg, FutureWarning)\n"
     ]
    },
    {
     "data": {
      "text/plain": [
       "<AxesSubplot:>"
      ]
     },
     "execution_count": 11,
     "metadata": {},
     "output_type": "execute_result"
    },
    {
     "data": {
      "image/png": "[encoded data removed]",
      "text/plain": [
       "<Figure size 432x288 with 1 Axes>"
      ]
     },
     "metadata": {
      "needs_background": "light"
     },
     "output_type": "display_data"
    }
   ],
   "source": [
    "idx = np.unique(label_train, return_counts=True)\n",
    "print('val: count')\n",
    "print('----------')\n",
    "for v, c in zip(*idx):\n",
    "    print(f'{v:2d}: {c:4d}')\n",
    "    \n",
    "sns.distplot(label_train, kde=False)"
   ]
  },
  {
   "cell_type": "markdown",
   "metadata": {},
   "source": [
    "Classes like **64** and **3** will be problem. But there are no classes for 1, 2. Is it so with val_data too!"
   ]
  },
  {
   "cell_type": "code",
   "execution_count": 12,
   "metadata": {},
   "outputs": [
    {
     "name": "stdout",
     "output_type": "stream",
     "text": [
      "(32635, 1)\n",
      "val: count\n",
      "----------\n",
      " 4:   13\n",
      " 5:  159\n",
      " 6:  311\n",
      " 7:  410\n",
      " 8:  477\n",
      " 9:  544\n",
      "10:  583\n",
      "11:  622\n",
      "12:  672\n",
      "13:  786\n",
      "14:  778\n",
      "15:  866\n",
      "16:  761\n",
      "17:  700\n",
      "18:  650\n",
      "19:  552\n",
      "20:  515\n",
      "21:  502\n",
      "22:  444\n",
      "23:  452\n",
      "24:  415\n",
      "25:  367\n",
      "26:  356\n",
      "27:  350\n",
      "28:  348\n",
      "29:  353\n",
      "30:  344\n",
      "31:  341\n",
      "32:  326\n",
      "33:  337\n",
      "34:  338\n",
      "35:  316\n",
      "36:  341\n",
      "37:  366\n",
      "38:  363\n",
      "39:  381\n",
      "40:  385\n",
      "41:  383\n",
      "42:  384\n",
      "43:  434\n",
      "44:  447\n",
      "45:  500\n",
      "46:  572\n",
      "47:  546\n",
      "48:  615\n",
      "49:  696\n",
      "50:  766\n",
      "51:  856\n",
      "52:  940\n",
      "53: 1081\n",
      "54: 1110\n",
      "55: 1030\n",
      "56:  971\n",
      "57:  962\n",
      "58:  882\n",
      "59:  884\n",
      "60:  753\n",
      "61:  621\n",
      "62:  332\n",
      "63:   43\n",
      "64:    3\n"
     ]
    },
    {
     "data": {
      "text/plain": [
       "<AxesSubplot:>"
      ]
     },
     "execution_count": 12,
     "metadata": {},
     "output_type": "execute_result"
    },
    {
     "data": {
      "image/png": "[encoded data removed]",
      "text/plain": [
       "<Figure size 432x288 with 1 Axes>"
      ]
     },
     "metadata": {
      "needs_background": "light"
     },
     "output_type": "display_data"
    }
   ],
   "source": [
    "label_val = np.load(f'{DATA_DIR}/-17.3375dB_labelVal.npy')\n",
    "print(label_val.shape)\n",
    "\n",
    "idx = np.unique(label_val, return_counts=True)\n",
    "print('val: count')\n",
    "print('----------')\n",
    "for v, c in zip(*idx):\n",
    "    print(f'{v:2d}: {c:4d}')\n",
    "    \n",
    "sns.distplot(label_val, kde=False)"
   ]
  },
  {
   "cell_type": "code",
   "execution_count": 54,
   "metadata": {},
   "outputs": [
    {
     "name": "stderr",
     "output_type": "stream",
     "text": [
      "/home/ubuntu/miniconda3/envs/619/lib/python3.8/site-packages/seaborn/distributions.py:2557: FutureWarning: `distplot` is a deprecated function and will be removed in a future version. Please adapt your code to use either `displot` (a figure-level function with similar flexibility) or `histplot` (an axes-level function for histograms).\n",
      "  warnings.warn(msg, FutureWarning)\n"
     ]
    },
    {
     "data": {
      "text/plain": [
       "<AxesSubplot:ylabel='Density'>"
      ]
     },
     "execution_count": 54,
     "metadata": {},
     "output_type": "execute_result"
    },
    {
     "data": {
      "image/png": "[encoded data removed]",
      "text/plain": [
       "<Figure size 432x288 with 1 Axes>"
      ]
     },
     "metadata": {
      "needs_background": "light"
     },
     "output_type": "display_data"
    }
   ],
   "source": [
    "# Let's compare train and val distribution\n",
    "sns.distplot(label_train, kde=True)\n",
    "sns.distplot(label_val, kde=True)"
   ]
  },
  {
   "cell_type": "markdown",
   "metadata": {},
   "source": [
    "Yeah, almost the same distribution. We don't have to worry about change if train and val set. Even KDE is overlapping."
   ]
  },
  {
   "cell_type": "code",
   "execution_count": 70,
   "metadata": {},
   "outputs": [
    {
     "data": {
      "text/plain": [
       "(1000, 4, 32)"
      ]
     },
     "execution_count": 70,
     "metadata": {},
     "output_type": "execute_result"
    }
   ],
   "source": [
    "shard1 = dict(np.load('3p5_shards/channel_0.npz'))['arr_0']\n",
    "shard1.shape"
   ]
  },
  {
   "cell_type": "code",
   "execution_count": 71,
   "metadata": {},
   "outputs": [
    {
     "data": {
      "text/plain": [
       "array([[-4.64011163e-05+1.22834175e-05j, -1.99560051e-05+3.47538488e-05j,\n",
       "         2.34045033e-06+3.23303153e-05j,  1.57503072e-05+2.85313046e-05j,\n",
       "         3.62408216e-05+1.86887315e-05j,  4.71549386e-05-1.50664536e-05j,\n",
       "         2.05251296e-05-4.96139407e-05j, -2.39663386e-05-4.57138207e-05j,\n",
       "        -4.25956329e-05-1.21955896e-05j, -3.36411005e-05+1.28587011e-05j,\n",
       "        -2.31148896e-05+2.50991334e-05j, -7.88544864e-06+4.02877482e-05j,\n",
       "         2.64676266e-05+4.25590293e-05j,  5.46914689e-05+8.97463444e-06j,\n",
       "         4.14044362e-05-3.55449325e-05j,  1.81547690e-06-4.80056120e-05j,\n",
       "        -2.37882042e-05-3.14245965e-05j, -3.24627359e-05-1.47192683e-05j,\n",
       "        -4.08171480e-05+3.88960891e-06j, -3.46280166e-05+3.62240569e-05j,\n",
       "         3.95261962e-06+5.62819349e-05j,  4.58147384e-05+3.36039437e-05j,\n",
       "         5.01678157e-05-1.02924818e-05j,  2.56533903e-05-3.39209173e-05j,\n",
       "         4.12079636e-06-3.69100292e-05j, -1.54315956e-05-3.76399122e-05j,\n",
       "        -4.33015054e-05-2.40219087e-05j, -5.40489908e-05+1.70726542e-05j,\n",
       "        -2.28460243e-05+5.36671419e-05j,  2.29975217e-05+4.86044956e-05j,\n",
       "         4.20927864e-05+1.67121650e-05j,  3.78155871e-05-7.62322895e-06j],\n",
       "       [ 4.69298143e-05+8.27003192e-06j,  3.78088176e-05-3.29667058e-05j,\n",
       "        -1.08482617e-06-4.64826205e-05j, -2.76847947e-05-2.66135529e-05j,\n",
       "        -3.05161967e-05-5.99648687e-06j, -3.12530342e-05+7.36002560e-06j,\n",
       "        -2.71518594e-05+3.02518965e-05j,  3.28650167e-06+4.90391922e-05j,\n",
       "         4.27595311e-05+3.10970754e-05j,  4.88164834e-05-1.22864473e-05j,\n",
       "         2.13485990e-05-3.70856934e-05j, -3.58681063e-06-3.45517695e-05j,\n",
       "        -1.76994760e-05-2.85984787e-05j, -3.69597153e-05-1.78876435e-05j,\n",
       "        -4.75798379e-05+1.53689977e-05j, -2.13830557e-05+5.05323822e-05j,\n",
       "         2.43625296e-05+4.76749542e-05j,  4.48807723e-05+1.29335014e-05j,\n",
       "         3.53383751e-05-1.45198262e-05j,  2.25607873e-05-2.69526281e-05j,\n",
       "         6.74415111e-06-4.05674893e-05j, -2.67746408e-05-4.24907892e-05j,\n",
       "        -5.53439662e-05-9.42161432e-06j, -4.28540507e-05+3.61255609e-05j,\n",
       "        -1.99771560e-06+5.00457062e-05j,  2.56545295e-05+3.25188366e-05j,\n",
       "         3.40157622e-05+1.36279412e-05j,  4.05646405e-05-5.17685319e-06j,\n",
       "         3.41215392e-05-3.63330824e-05j, -3.74583344e-06-5.65494353e-05j,\n",
       "        -4.63692764e-05-3.45619028e-05j, -5.18145679e-05+1.05075244e-05j],\n",
       "       [-2.80794966e-05-1.08209476e-05j, -3.76070764e-05+1.20841474e-05j,\n",
       "        -1.89212274e-05+4.29861587e-05j,  2.27240429e-05+4.34016111e-05j,\n",
       "         4.39101948e-05+9.44272186e-06j,  3.10758000e-05-1.94879246e-05j,\n",
       "         1.32879185e-05-2.66570249e-05j,  1.32417574e-06-3.16019862e-05j,\n",
       "        -2.23409510e-05-3.37423597e-05j, -4.79623284e-05-8.47255999e-06j,\n",
       "        -3.95386517e-05+3.37035050e-05j,  5.12711572e-07+4.89747644e-05j,\n",
       "         2.96987303e-05+2.85818923e-05j,  3.30219014e-05+5.32356967e-06j,\n",
       "         3.18434548e-05-9.21462437e-06j,  2.66557920e-05-3.11807388e-05j,\n",
       "        -3.43847629e-06-4.96764348e-05j, -4.35656757e-05-3.22738979e-05j,\n",
       "        -5.09692671e-05+1.22359197e-05j, -2.26570057e-05+3.92355194e-05j,\n",
       "         4.81000668e-06+3.66595136e-05j,  1.96361729e-05+2.85610515e-05j,\n",
       "         3.75663367e-05+1.69356237e-05j,  4.77411198e-05-1.56778335e-05j,\n",
       "         2.20718963e-05-5.12040121e-05j, -2.46474112e-05-4.93738225e-05j,\n",
       "        -4.69465523e-05-1.36223445e-05j, -3.69135072e-05+1.61127217e-05j,\n",
       "        -2.19192731e-05+2.87505710e-05j, -5.49678786e-06+4.07075477e-05j,\n",
       "         2.70298234e-05+4.21712403e-05j,  5.57172902e-05+9.75315794e-06j],\n",
       "       [ 2.98268055e-05-1.95092860e-06j,  2.16325152e-05-1.21166174e-05j,\n",
       "         1.77109866e-05-2.37264120e-05j, -2.30479196e-06-3.90266553e-05j,\n",
       "        -3.66498518e-05-2.81102922e-05j, -4.62664822e-05+1.17199616e-05j,\n",
       "        -1.86850791e-05+3.90155359e-05j,  1.07990482e-05+3.32037343e-05j,\n",
       "         2.11601860e-05+1.90565609e-05j,  2.96202211e-05+9.65234009e-06j,\n",
       "         3.80428792e-05-1.30779983e-05j,  1.94676013e-05-4.40609915e-05j,\n",
       "        -2.30801960e-05-4.54125005e-05j, -4.63314945e-05-1.06234221e-05j,\n",
       "        -3.35402543e-05+2.10355818e-05j, -1.32534733e-05+2.92931092e-05j,\n",
       "         2.95363692e-07+3.26710627e-05j,  2.33731355e-05+3.36016434e-05j,\n",
       "         4.87570138e-05+8.55185528e-06j,  4.10204434e-05-3.42923184e-05j,\n",
       "         5.28385938e-08-5.12063077e-05j, -3.15626781e-05-3.04322138e-05j,\n",
       "        -3.54204169e-05-4.64194562e-06j, -3.23281488e-05+1.10898876e-05j,\n",
       "        -2.59813595e-05+3.20366052e-05j,  3.65823541e-06+5.00569603e-05j,\n",
       "         4.41712149e-05+3.32317206e-05j,  5.28474508e-05-1.21371748e-05j,\n",
       "         2.38708845e-05-4.11912816e-05j, -6.00168461e-06-3.86400251e-05j,\n",
       "        -2.15476121e-05-2.84226039e-05j, -3.80616686e-05-1.58413797e-05j]])"
      ]
     },
     "execution_count": 71,
     "metadata": {},
     "output_type": "execute_result"
    }
   ],
   "source": [
    "shard1[0, :, :]"
   ]
  },
  {
   "cell_type": "code",
   "execution_count": null,
   "metadata": {},
   "outputs": [],
   "source": []
  }
 ],
 "metadata": {
  "kernelspec": {
   "display_name": "619",
   "language": "python",
   "name": "619"
  },
  "language_info": {
   "codemirror_mode": {
    "name": "ipython",
    "version": 3
   },
   "file_extension": ".py",
   "mimetype": "text/x-python",
   "name": "python",
   "nbconvert_exporter": "python",
   "pygments_lexer": "ipython3",
   "version": "3.8.8"
  }
 },
 "nbformat": 4,
 "nbformat_minor": 5
}
