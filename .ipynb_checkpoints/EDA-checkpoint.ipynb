{
 "cells": [
  {
   "cell_type": "markdown",
   "id": "b795342a-7517-4886-b9e7-0cd7dff4ea44",
   "metadata": {},
   "source": [
    "Install Libs"
   ]
  },
  {
   "cell_type": "code",
   "execution_count": null,
   "id": "a1c65832-d841-44a7-8a1f-884627b5e8ad",
   "metadata": {},
   "outputs": [],
   "source": [
    "!pip install wandb --upgrade\n",
    "!pip install pytorch-lightning\n",
    "!pip install segmentation-models-pytorch\n",
    "!pip install albumentations"
   ]
  },
  {
   "cell_type": "markdown",
   "id": "e6948814-dd3b-4e5e-afc6-8c5fd333c5a5",
   "metadata": {},
   "source": [
    "Download Dataset"
   ]
  },
  {
   "cell_type": "code",
   "execution_count": null,
   "id": "770390a6-37ae-4dce-af77-a0f2f4a2bf34",
   "metadata": {},
   "outputs": [],
   "source": [
    "# https://drive.google.com/file/d//view?usp=sharing\n",
    "!wget --load-cookies /tmp/cookies.txt \"https://docs.google.com/uc?export=download&confirm=$(wget --quiet --save-cookies /tmp/cookies.txt --keep-session-cookies --no-check-certificate 'https://docs.google.com/uc?export=download&id=1mQCNp8dq499qnJI0YCc0hTVfmm4ppxO5' -O- | sed -rn 's/.*confirm=([0-9A-Za-z_]+).*/\\1\\n/p')&id=1mQCNp8dq499qnJI0YCc0hTVfmm4ppxO5\" -O \"download.tar.gz\" && rm -rf /tmp/cookies.txt\n",
    "!tar -xvf download.tar.gz"
   ]
  },
  {
   "cell_type": "markdown",
   "id": "bdb0efbb-756a-4fb1-bc17-a35f607100fd",
   "metadata": {},
   "source": [
    "# EDA\n",
    "\n",
    "Here we will explore the data"
   ]
  },
  {
   "cell_type": "code",
   "execution_count": 4,
   "id": "cd566bcf-1d47-4734-b66f-3abcfbc2b742",
   "metadata": {},
   "outputs": [
    {
     "name": "stdout",
     "output_type": "stream",
     "text": [
      "Dataset_-17.3375dB  download.tar.gz  trainer.ipynb\n"
     ]
    }
   ],
   "source": [
    "!ls"
   ]
  },
  {
   "cell_type": "code",
   "execution_count": 27,
   "id": "8c141742-6974-445d-b876-d322b9b703d1",
   "metadata": {},
   "outputs": [],
   "source": [
    "import numpy as np\n",
    "import seaborn as sns\n",
    "import os\n",
    "\n",
    "# vars\n",
    "DATA_DIR = 'Dataset_-17.3375dB'"
   ]
  },
  {
   "cell_type": "code",
   "execution_count": 28,
   "id": "508dc6d5-c39c-4246-ae03-f232c7a9c430",
   "metadata": {},
   "outputs": [
    {
     "name": "stdout",
     "output_type": "stream",
     "text": [
      "-17.3375dB_highFreqChTrain.npy\t-17.3375dB_maxRateTrain.npy\n",
      "-17.3375dB_highFreqChVal.npy\t-17.3375dB_maxRateVal.npy\n",
      "-17.3375dB_inpTrain.npy\t\t-17.3375dB_trainInpLoc.npy\n",
      "-17.3375dB_inpVal.npy\t\t-17.3375dB_trainOutLoc.npy\n",
      "-17.3375dB_labelTrain.npy\t-17.3375dB_valInpLoc.npy\n",
      "-17.3375dB_labelVal.npy\t\t-17.3375dB_valOutLoc.npy\n"
     ]
    }
   ],
   "source": [
    "!ls $DATA_DIR"
   ]
  },
  {
   "cell_type": "code",
   "execution_count": 29,
   "id": "5aa0e87b-697d-4448-92ad-61cc63849725",
   "metadata": {},
   "outputs": [
    {
     "name": "stdout",
     "output_type": "stream",
     "text": [
      "(256, 76146)\n",
      "[ 0.34402435  0.35276638  0.24912292  0.04245569 -0.07585518  0.11675079\n",
      "  0.32772158  0.41844028  0.38961957  0.34769169  0.41456424  0.21615378\n",
      " -0.10762008  0.11693366  0.26621293  0.35885817  0.20991388  0.35602942\n",
      "  0.35236283  0.32064236 -0.25278387 -0.19930945  0.09919291  0.33095766\n",
      "  0.26639666  0.40680209  0.47222736  0.29147502 -0.47701936 -0.20684795\n",
      "  0.01463959  0.19980429  0.09904804  0.27226746  0.29832213  0.35282602\n",
      " -0.2802205  -0.22275559 -0.12587274  0.1095431  -0.00487931  0.19723955\n",
      "  0.36733067  0.39577579 -0.35610948 -0.31777863 -0.28473125  0.03125232\n",
      " -0.08544636  0.11759862  0.31293973  0.33906337 -0.32830403 -0.34982521\n",
      " -0.35060942 -0.12330077 -0.22415774 -0.1148948   0.28720918  0.44913657\n",
      " -0.27646004 -0.44266145 -0.46511541 -0.12060044 -0.31348222 -0.25484867\n",
      "  0.13597803  0.31050406 -0.23749792 -0.3516434  -0.45290542 -0.43036628\n",
      " -0.43242879 -0.26851891 -0.0762867   0.14639127 -0.11255325 -0.37711983\n",
      " -0.4561838  -0.37594349 -0.35655316 -0.34239147 -0.18448287  0.08088179\n",
      " -0.07286884 -0.2878561  -0.47047651 -0.45052939 -0.41301271 -0.44620617\n",
      " -0.22021228 -0.12059339 -0.00752844 -0.19187856 -0.38300419 -0.60582458\n",
      " -0.39760471 -0.35594879 -0.37783219 -0.17869779  0.21772533  0.00082494\n",
      " -0.29269049 -0.35172052 -0.17849416 -0.46666882 -0.40129375 -0.25945711\n",
      "  0.2900324   0.14741569 -0.19433594 -0.23926708 -0.25945333 -0.38462007\n",
      " -0.44955275 -0.4249296   0.42861028  0.1717727   0.12872309 -0.16160262\n",
      " -0.17425785 -0.34521739 -0.49565463 -0.35653291  0.47275032  0.37745766\n",
      "  0.11941832  0.01104142  0.11607716 -0.23654267 -0.38859858 -0.41310996\n",
      "  0.45822866  0.30986938  0.26757909 -0.04733058  0.12225696 -0.00864615\n",
      " -0.32806215 -0.46472839  0.35528527  0.39539796  0.32433211  0.1372181\n",
      "  0.30543438  0.03223468 -0.19000797 -0.3671321   0.35625888  0.48586865\n",
      "  0.4763229   0.19445442  0.34458546  0.07898512 -0.00663035 -0.30893434\n",
      "  0.20942449  0.4066618   0.43166025  0.33533986  0.46807792  0.17457752\n",
      "  0.03532689 -0.12003952  0.17426838  0.25487332  0.51778464  0.30291946\n",
      "  0.40261395  0.37935117  0.08577622 -0.11811861 -0.03499405  0.19796698\n",
      "  0.34851969  0.32635482  0.35740182  0.42052092  0.24126002  0.07316314\n",
      " -0.06683623  0.05573204  0.43296676  0.55909832  0.3953439   0.41909952\n",
      "  0.32386104  0.09445421 -0.09754935  0.04612589  0.23965054  0.37545545\n",
      "  0.36630877  0.39923926  0.31460896  0.28399001 -0.30967073 -0.03378714\n",
      "  0.12382073  0.33135937  0.14612054  0.22006215  0.4852161   0.35977062\n",
      " -0.29215255 -0.38452802  0.06708602  0.29648596  0.05306155  0.24951605\n",
      "  0.41528784  0.25199455 -0.37829226 -0.17318942 -0.05220535 -0.00306074\n",
      " -0.08765125  0.11157085  0.23163961  0.27609436 -0.36789496 -0.06676901\n",
      " -0.13590978 -0.06850714 -0.23766201  0.17978046  0.2757366   0.36350389\n",
      " -0.41519291 -0.33360661 -0.17816344 -0.05133303 -0.20130901  0.04566574\n",
      "  0.15459892  0.43421018 -0.35977485 -0.35075844 -0.3182261  -0.13143395\n",
      " -0.1411654  -0.12767696  0.10355275  0.24604364 -0.1910008  -0.32537198\n",
      " -0.27896184 -0.26709529 -0.19037165 -0.20223572 -0.13762615  0.22004253\n",
      " -0.11560432 -0.22574793 -0.32152162 -0.2814364 ]\n"
     ]
    }
   ],
   "source": [
    "inp_train = np.load(f'{DATA_DIR}/-17.3375dB_inpTrain.npy')\n",
    "print(inp_train.shape)\n",
    "print(inp_train[:, 0])"
   ]
  },
  {
   "cell_type": "markdown",
   "id": "194f4b1b-798c-4ab7-9da5-d75b3b1333d3",
   "metadata": {},
   "source": [
    "So 76k users, with 256. Need to reshape 4x32x76146. (num_atenas x channels x num_users)"
   ]
  },
  {
   "cell_type": "code",
   "execution_count": 30,
   "id": "9645ad15-d7c2-4d1d-9c4f-cc0dfda35856",
   "metadata": {},
   "outputs": [
    {
     "data": {
      "text/plain": [
       "array([[ 0.34402435,  0.24912292, -0.07585518,  0.32772158,  0.38961957,\n",
       "         0.41456424, -0.10762008,  0.26621293,  0.20991388,  0.35236283,\n",
       "        -0.25278387,  0.09919291,  0.26639666,  0.47222736, -0.47701936,\n",
       "         0.01463959,  0.09904804,  0.29832213, -0.2802205 , -0.12587274,\n",
       "        -0.00487931,  0.36733067, -0.35610948, -0.28473125, -0.08544636,\n",
       "         0.31293973, -0.32830403, -0.35060942, -0.22415774,  0.28720918,\n",
       "        -0.27646004, -0.46511541],\n",
       "       [-0.31348222,  0.13597803, -0.23749792, -0.45290542, -0.43242879,\n",
       "        -0.0762867 , -0.11255325, -0.4561838 , -0.35655316, -0.18448287,\n",
       "        -0.07286884, -0.47047651, -0.41301271, -0.22021228, -0.00752844,\n",
       "        -0.38300419, -0.39760471, -0.37783219,  0.21772533, -0.29269049,\n",
       "        -0.17849416, -0.40129375,  0.2900324 , -0.19433594, -0.25945333,\n",
       "        -0.44955275,  0.42861028,  0.12872309, -0.17425785, -0.49565463,\n",
       "         0.47275032,  0.11941832],\n",
       "       [ 0.11607716, -0.38859858,  0.45822866,  0.26757909,  0.12225696,\n",
       "        -0.32806215,  0.35528527,  0.32433211,  0.30543438, -0.19000797,\n",
       "         0.35625888,  0.4763229 ,  0.34458546, -0.00663035,  0.20942449,\n",
       "         0.43166025,  0.46807792,  0.03532689,  0.17426838,  0.51778464,\n",
       "         0.40261395,  0.08577622, -0.03499405,  0.34851969,  0.35740182,\n",
       "         0.24126002, -0.06683623,  0.43296676,  0.3953439 ,  0.32386104,\n",
       "        -0.09754935,  0.23965054],\n",
       "       [ 0.36630877,  0.31460896, -0.30967073,  0.12382073,  0.14612054,\n",
       "         0.4852161 , -0.29215255,  0.06708602,  0.05306155,  0.41528784,\n",
       "        -0.37829226, -0.05220535, -0.08765125,  0.23163961, -0.36789496,\n",
       "        -0.13590978, -0.23766201,  0.2757366 , -0.41519291, -0.17816344,\n",
       "        -0.20130901,  0.15459892, -0.35977485, -0.3182261 , -0.1411654 ,\n",
       "         0.10355275, -0.1910008 , -0.27896184, -0.19037165, -0.13762615,\n",
       "        -0.11560432, -0.32152162]])"
      ]
     },
     "execution_count": 30,
     "metadata": {},
     "output_type": "execute_result"
    }
   ],
   "source": [
    "inp_train = inp_train.reshape((4, 32, -1))\n",
    "inp_train[:, :, 0]"
   ]
  },
  {
   "cell_type": "markdown",
   "id": "4414ca4f-d7c1-4be5-9378-a5c0bd227c23",
   "metadata": {},
   "source": [
    "Let's See Labels"
   ]
  },
  {
   "cell_type": "code",
   "execution_count": 31,
   "id": "b2b36d4a-8bc6-4dfc-9721-0e31d5ffdd31",
   "metadata": {},
   "outputs": [
    {
     "name": "stdout",
     "output_type": "stream",
     "text": [
      "(76146, 1)\n",
      "[[37]\n",
      " [57]\n",
      " [45]\n",
      " ...\n",
      " [45]\n",
      " [60]\n",
      " [22]]\n"
     ]
    }
   ],
   "source": [
    "label_train = np.load(f'{DATA_DIR}/-17.3375dB_labelTrain.npy')\n",
    "print(label_train.shape)\n",
    "print(label_train[:, :])"
   ]
  },
  {
   "cell_type": "markdown",
   "id": "5ac507a8-f259-4b14-9c46-52a9b4d632c0",
   "metadata": {},
   "source": [
    "Let's See the label distribution"
   ]
  },
  {
   "cell_type": "code",
   "execution_count": 47,
   "id": "ac8bc6b1-c873-4028-bbbd-d8ff95a5226d",
   "metadata": {},
   "outputs": [
    {
     "name": "stdout",
     "output_type": "stream",
     "text": [
      "val: count\n",
      "----------\n",
      " 3:    1\n",
      " 4:   54\n",
      " 5:  443\n",
      " 6:  710\n",
      " 7:  851\n",
      " 8: 1056\n",
      " 9: 1268\n",
      "10: 1323\n",
      "11: 1528\n",
      "12: 1638\n",
      "13: 1645\n",
      "14: 1864\n",
      "15: 2078\n",
      "16: 1861\n",
      "17: 1635\n",
      "18: 1566\n",
      "19: 1322\n",
      "20: 1256\n",
      "21: 1132\n",
      "22: 1080\n",
      "23:  988\n",
      "24:  966\n",
      "25:  945\n",
      "26:  899\n",
      "27:  880\n",
      "28:  869\n",
      "29:  811\n",
      "30:  798\n",
      "31:  788\n",
      "32:  807\n",
      "33:  797\n",
      "34:  797\n",
      "35:  821\n",
      "36:  802\n",
      "37:  806\n",
      "38:  830\n",
      "39:  850\n",
      "40:  882\n",
      "41:  930\n",
      "42:  990\n",
      "43: 1022\n",
      "44: 1076\n",
      "45: 1131\n",
      "46: 1167\n",
      "47: 1338\n",
      "48: 1437\n",
      "49: 1556\n",
      "50: 1720\n",
      "51: 1952\n",
      "52: 2223\n",
      "53: 2548\n",
      "54: 2630\n",
      "55: 2475\n",
      "56: 2316\n",
      "57: 2155\n",
      "58: 2052\n",
      "59: 1819\n",
      "60: 1707\n",
      "61: 1405\n",
      "62:  753\n",
      "63:   94\n",
      "64:    3\n"
     ]
    },
    {
     "data": {
      "text/plain": [
       "<AxesSubplot:>"
      ]
     },
     "execution_count": 47,
     "metadata": {},
     "output_type": "execute_result"
    },
    {
     "data": {
      "image/png": "[encoded data removed]",
      "text/plain": [
       "<Figure size 432x288 with 1 Axes>"
      ]
     },
     "metadata": {
      "needs_background": "light"
     },
     "output_type": "display_data"
    }
   ],
   "source": [
    "idx = np.unique(label_train, return_counts=True)\n",
    "print('val: count')\n",
    "print('----------')\n",
    "for v, c in zip(*idx):\n",
    "    print(f'{v:2d}: {c:4d}')\n",
    "    \n",
    "sns.distplot(label_train, kde=False)"
   ]
  },
  {
   "cell_type": "markdown",
   "id": "8417aee0-6255-4725-ae5a-167693714c51",
   "metadata": {},
   "source": [
    "Classes like **64** and **3** will be problem. But there are no classes for 1, 2. Is it so with val_data too!"
   ]
  },
  {
   "cell_type": "code",
   "execution_count": 49,
   "id": "1fbbdc06-70be-4c0a-afa3-57507a427bbf",
   "metadata": {},
   "outputs": [
    {
     "name": "stdout",
     "output_type": "stream",
     "text": [
      "(32635, 1)\n",
      "[[17]\n",
      " [51]\n",
      " [40]\n",
      " ...\n",
      " [22]\n",
      " [22]\n",
      " [58]]\n"
     ]
    }
   ],
   "source": [
    "label_val = np.load(f'{DATA_DIR}/-17.3375dB_labelVal.npy')\n",
    "print(label_val.shape)\n",
    "print(label_val[:, :])"
   ]
  },
  {
   "cell_type": "code",
   "execution_count": null,
   "id": "759d0142-246a-4ee7-bb17-420bd86af2d9",
   "metadata": {},
   "outputs": [],
   "source": []
  }
 ],
 "metadata": {
  "kernelspec": {
   "display_name": "Python (619)",
   "language": "python",
   "name": "619"
  },
  "language_info": {
   "codemirror_mode": {
    "name": "ipython",
    "version": 3
   },
   "file_extension": ".py",
   "mimetype": "text/x-python",
   "name": "python",
   "nbconvert_exporter": "python",
   "pygments_lexer": "ipython3",
   "version": "3.8.8"
  }
 },
 "nbformat": 4,
 "nbformat_minor": 5
}
